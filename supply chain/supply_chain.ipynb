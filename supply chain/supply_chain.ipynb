{
 "cells": [
  {
   "cell_type": "code",
   "execution_count": 1,
   "metadata": {},
   "outputs": [
    {
     "name": "stdout",
     "output_type": "stream",
     "text": [
      "Sample data generated and exported to 'supply_chain_efficiency_data.csv'\n"
     ]
    }
   ],
   "source": [
    "import pandas as pd\n",
    "import numpy as np\n",
    "from faker import Faker\n",
    "import random\n",
    "\n",
    "# Initialize Faker\n",
    "fake = Faker()\n",
    "\n",
    "# Define parameters\n",
    "num_rows = 1000\n",
    "regions = ['North America', 'Europe', 'Asia', 'South America', 'Africa']\n",
    "suppliers = ['Supplier A', 'Supplier B', 'Supplier C', 'Supplier D']\n",
    "production_lines = ['Line 1', 'Line 2', 'Line 3', 'Line 4']\n",
    "\n",
    "# Generate data\n",
    "data = {\n",
    "    'Date': [fake.date_between(start_date='-2y', end_date='today') for _ in range(num_rows)],\n",
    "    'Region': [random.choice(regions) for _ in range(num_rows)],\n",
    "    'Supplier': [random.choice(suppliers) for _ in range(num_rows)],\n",
    "    'Product Category': [fake.word() for _ in range(num_rows)],\n",
    "    'Inventory Level': [random.randint(50, 5000) for _ in range(num_rows)],\n",
    "    'Turnover Rate': [round(random.uniform(1, 20), 2) for _ in range(num_rows)],\n",
    "    'Delivery Time (Days)': [random.randint(1, 30) for _ in range(num_rows)],\n",
    "    'Delivery Quality Score': [round(random.uniform(1, 10), 2) for _ in range(num_rows)],\n",
    "    'Logistics Cost': [round(random.uniform(100, 10000), 2) for _ in range(num_rows)],\n",
    "    'Logistics Time (Days)': [random.randint(1, 15) for _ in range(num_rows)],\n",
    "    'Production Line': [random.choice(production_lines) for _ in range(num_rows)],\n",
    "    'Production Efficiency (%)': [round(random.uniform(50, 100), 2) for _ in range(num_rows)],\n",
    "    'Order Fulfillment Rate (%)': [round(random.uniform(70, 100), 2) for _ in range(num_rows)]\n",
    "}\n",
    "\n",
    "# Create DataFrame\n",
    "df = pd.DataFrame(data)\n",
    "\n",
    "# Add calculated columns\n",
    "df['Year'] = pd.DatetimeIndex(df['Date']).year\n",
    "df['Month'] = pd.DatetimeIndex(df['Date']).month\n",
    "\n",
    "# Save to CSV\n",
    "df.to_csv('supply_chain_efficiency_data.csv', index=False)\n",
    "\n",
    "print(\"Sample data generated and exported to 'supply_chain_efficiency_data.csv'\")"
   ]
  },
  {
   "cell_type": "code",
   "execution_count": 2,
   "metadata": {},
   "outputs": [
    {
     "name": "stdout",
     "output_type": "stream",
     "text": [
      "Sample data generated and exported to 'supply_chain_efficiency_data.csv'\n"
     ]
    }
   ],
   "source": [
    "import pandas as pd\n",
    "import numpy as np\n",
    "from faker import Faker\n",
    "import random\n",
    "\n",
    "# Initialize Faker\n",
    "fake = Faker()\n",
    "\n",
    "# Define parameters\n",
    "num_rows = 1000\n",
    "regions = ['North America', 'Europe', 'Asia', 'South America', 'Africa']\n",
    "suppliers = ['Supplier A', 'Supplier B', 'Supplier C', 'Supplier D']\n",
    "production_lines = ['Line 1', 'Line 2', 'Line 3', 'Line 4']\n",
    "product_categories = [\n",
    "    'Beverages', 'Dairy Products', 'Confectionery', \n",
    "    'Cereals', 'Baby Foods', 'Prepared Foods', \n",
    "    'Pet Care', 'Frozen Foods', 'Ice Cream', 'Baking Products'\n",
    "]\n",
    "\n",
    "# Generate data\n",
    "data = {\n",
    "    'Date': [fake.date_between(start_date='-2y', end_date='today') for _ in range(num_rows)],\n",
    "    'Region': [random.choice(regions) for _ in range(num_rows)],\n",
    "    'Supplier': [random.choice(suppliers) for _ in range(num_rows)],\n",
    "    'Product Category': [random.choice(product_categories) for _ in range(num_rows)],\n",
    "    'Inventory Level': [random.randint(50, 5000) for _ in range(num_rows)],\n",
    "    'Turnover Rate': [round(random.uniform(1, 20), 2) for _ in range(num_rows)],\n",
    "    'Delivery Time (Days)': [random.randint(1, 30) for _ in range(num_rows)],\n",
    "    'Delivery Quality Score': [round(random.uniform(1, 10), 2) for _ in range(num_rows)],\n",
    "    'Logistics Cost': [round(random.uniform(100, 10000), 2) for _ in range(num_rows)],\n",
    "    'Logistics Time (Days)': [random.randint(1, 15) for _ in range(num_rows)],\n",
    "    'Production Line': [random.choice(production_lines) for _ in range(num_rows)],\n",
    "    'Production Efficiency (%)': [round(random.uniform(50, 100), 2) for _ in range(num_rows)],\n",
    "    'Order Fulfillment Rate (%)': [round(random.uniform(70, 100), 2) for _ in range(num_rows)]\n",
    "}\n",
    "\n",
    "# Create DataFrame\n",
    "df = pd.DataFrame(data)\n",
    "\n",
    "# Add calculated columns\n",
    "df['Year'] = pd.DatetimeIndex(df['Date']).year\n",
    "df['Month'] = pd.DatetimeIndex(df['Date']).month\n",
    "\n",
    "# Save to CSV\n",
    "df.to_csv('supply_chain_data.csv', index=False)\n",
    "\n",
    "print(\"Sample data generated and exported to 'supply_chain_efficiency_data.csv'\")"
   ]
  }
 ],
 "metadata": {
  "kernelspec": {
   "display_name": "Python 3",
   "language": "python",
   "name": "python3"
  },
  "language_info": {
   "codemirror_mode": {
    "name": "ipython",
    "version": 3
   },
   "file_extension": ".py",
   "mimetype": "text/x-python",
   "name": "python",
   "nbconvert_exporter": "python",
   "pygments_lexer": "ipython3",
   "version": "3.11.4"
  }
 },
 "nbformat": 4,
 "nbformat_minor": 2
}
