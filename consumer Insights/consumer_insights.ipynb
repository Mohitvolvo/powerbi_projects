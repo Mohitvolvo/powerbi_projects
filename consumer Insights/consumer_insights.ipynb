{
 "cells": [
  {
   "cell_type": "code",
   "execution_count": 1,
   "metadata": {},
   "outputs": [
    {
     "name": "stdout",
     "output_type": "stream",
     "text": [
      "Sample data generated and exported to 'consumer_insights_data.csv'\n"
     ]
    }
   ],
   "source": [
    "import pandas as pd\n",
    "import numpy as np\n",
    "from faker import Faker\n",
    "import random\n",
    "\n",
    "# Initialize Faker\n",
    "fake = Faker()\n",
    "\n",
    "# Define parameters\n",
    "num_rows = 1000\n",
    "regions = ['North America', 'Europe', 'Asia', 'South America', 'Africa']\n",
    "product_categories = ['Beverages', 'Dairy Products', 'Prepared Foods', 'Confectionery', 'Pet Care']\n",
    "genders = ['Male', 'Female']\n",
    "loyalty_levels = ['Bronze', 'Silver', 'Gold', 'Platinum']\n",
    "\n",
    "# Generate data\n",
    "data = {\n",
    "    'Customer ID': [fake.uuid4() for _ in range(num_rows)],\n",
    "    'Age': [random.randint(18, 70) for _ in range(num_rows)],\n",
    "    'Gender': [random.choice(genders) for _ in range(num_rows)],\n",
    "    'Region': [random.choice(regions) for _ in range(num_rows)],\n",
    "    'Purchase Frequency': [random.randint(1, 50) for _ in range(num_rows)],\n",
    "    'Average Order Value': [round(random.uniform(20, 500), 2) for _ in range(num_rows)],\n",
    "    'Product Category': [random.choice(product_categories) for _ in range(num_rows)],\n",
    "    'Customer Feedback': [fake.sentence(nb_words=10) for _ in range(num_rows)],\n",
    "    'Sentiment Score': [round(random.uniform(1, 5), 1) for _ in range(num_rows)],\n",
    "    'Loyalty Program Level': [random.choice(loyalty_levels) for _ in range(num_rows)]\n",
    "}\n",
    "\n",
    "# Create DataFrame\n",
    "df = pd.DataFrame(data)\n",
    "\n",
    "# Save to CSV\n",
    "df.to_csv('consumer_insights_data.csv', index=False)\n",
    "\n",
    "print(\"Sample data generated and exported to 'consumer_insights_data.csv'\")"
   ]
  }
 ],
 "metadata": {
  "kernelspec": {
   "display_name": "Python 3",
   "language": "python",
   "name": "python3"
  },
  "language_info": {
   "codemirror_mode": {
    "name": "ipython",
    "version": 3
   },
   "file_extension": ".py",
   "mimetype": "text/x-python",
   "name": "python",
   "nbconvert_exporter": "python",
   "pygments_lexer": "ipython3",
   "version": "3.11.4"
  }
 },
 "nbformat": 4,
 "nbformat_minor": 2
}
