{
 "cells": [
  {
   "cell_type": "code",
   "execution_count": 1,
   "metadata": {},
   "outputs": [
    {
     "name": "stdout",
     "output_type": "stream",
     "text": [
      "Sample data generated and exported to 'sales_performance_data.csv'\n"
     ]
    }
   ],
   "source": [
    "import pandas as pd\n",
    "import numpy as np\n",
    "from faker import Faker\n",
    "import random\n",
    "\n",
    "# Initialize Faker\n",
    "fake = Faker()\n",
    "\n",
    "# Define parameters\n",
    "num_rows = 1000\n",
    "regions = ['North America', 'Europe', 'Asia', 'South America', 'Africa']\n",
    "product_categories = ['Beverages', 'Dairy Products', 'Prepared Foods', 'Confectionery', 'Pet Care']\n",
    "channels = ['Online', 'Offline']\n",
    "\n",
    "# Generate data\n",
    "data = {\n",
    "    'Date': [fake.date_between(start_date='-2y', end_date='today') for _ in range(num_rows)],\n",
    "    'Region': [random.choice(regions) for _ in range(num_rows)],\n",
    "    'Product Category': [random.choice(product_categories) for _ in range(num_rows)],\n",
    "    'Channel': [random.choice(channels) for _ in range(num_rows)],\n",
    "    'Sales Volume': [random.randint(10, 1000) for _ in range(num_rows)],\n",
    "    'Revenue': [round(random.uniform(100, 5000), 2) for _ in range(num_rows)]\n",
    "}\n",
    "\n",
    "# Create DataFrame\n",
    "df = pd.DataFrame(data)\n",
    "\n",
    "# Add calculated columns\n",
    "df['Year'] = pd.DatetimeIndex(df['Date']).year\n",
    "df['Month'] = pd.DatetimeIndex(df['Date']).month\n",
    "\n",
    "# Save to CSV\n",
    "df.to_csv('sales_performance_data.csv', index=False)\n",
    "\n",
    "print(\"Sample data generated and exported to 'sales_performance_data.csv'\")"
   ]
  }
 ],
 "metadata": {
  "kernelspec": {
   "display_name": "Python 3",
   "language": "python",
   "name": "python3"
  },
  "language_info": {
   "codemirror_mode": {
    "name": "ipython",
    "version": 3
   },
   "file_extension": ".py",
   "mimetype": "text/x-python",
   "name": "python",
   "nbconvert_exporter": "python",
   "pygments_lexer": "ipython3",
   "version": "3.11.4"
  }
 },
 "nbformat": 4,
 "nbformat_minor": 2
}
