{
 "cells": [
  {
   "cell_type": "code",
   "execution_count": 1,
   "metadata": {},
   "outputs": [
    {
     "name": "stdout",
     "output_type": "stream",
     "text": [
      "Sample data generated and exported to 'marketing_effectiveness_data.csv'\n"
     ]
    }
   ],
   "source": [
    "import pandas as pd\n",
    "import numpy as np\n",
    "from faker import Faker\n",
    "import random\n",
    "\n",
    "# Initialize Faker\n",
    "fake = Faker()\n",
    "\n",
    "# Define parameters\n",
    "num_rows = 1000\n",
    "campaigns = ['Campaign A', 'Campaign B', 'Campaign C', 'Campaign D']\n",
    "channels = ['Email', 'Social Media', 'PPC', 'Organic Search']\n",
    "\n",
    "# Generate data\n",
    "data = {\n",
    "    'Date': [fake.date_between(start_date='-1y', end_date='today') for _ in range(num_rows)],\n",
    "    'Campaign': [random.choice(campaigns) for _ in range(num_rows)],\n",
    "    'Channel': [random.choice(channels) for _ in range(num_rows)],\n",
    "    'Reach': [random.randint(1000, 100000) for _ in range(num_rows)],\n",
    "    'Engagement': [random.randint(100, 10000) for _ in range(num_rows)],\n",
    "    'Conversions': [random.randint(10, 2000) for _ in range(num_rows)],\n",
    "    'Marketing Spend': [round(random.uniform(1000, 50000), 2) for _ in range(num_rows)],\n",
    "    'Revenue Generated': [round(random.uniform(5000, 100000), 2) for _ in range(num_rows)],\n",
    "    'Customer Acquisition Cost': [round(random.uniform(5, 500), 2) for _ in range(num_rows)],\n",
    "    'Lifetime Value': [round(random.uniform(100, 10000), 2) for _ in range(num_rows)]\n",
    "}\n",
    "\n",
    "# Calculate ROI\n",
    "data['ROI'] = [(rev - spend) / spend * 100 if spend != 0 else 0 for rev, spend in zip(data['Revenue Generated'], data['Marketing Spend'])]\n",
    "\n",
    "# Create DataFrame\n",
    "df = pd.DataFrame(data)\n",
    "\n",
    "# Add calculated columns\n",
    "df['Year'] = pd.DatetimeIndex(df['Date']).year\n",
    "df['Month'] = pd.DatetimeIndex(df['Date']).month\n",
    "\n",
    "# Save to CSV\n",
    "df.to_csv('marketing_effectiveness_data.csv', index=False)\n",
    "\n",
    "print(\"Sample data generated and exported to 'marketing_effectiveness_data.csv'\")"
   ]
  }
 ],
 "metadata": {
  "kernelspec": {
   "display_name": "Python 3",
   "language": "python",
   "name": "python3"
  },
  "language_info": {
   "codemirror_mode": {
    "name": "ipython",
    "version": 3
   },
   "file_extension": ".py",
   "mimetype": "text/x-python",
   "name": "python",
   "nbconvert_exporter": "python",
   "pygments_lexer": "ipython3",
   "version": "3.11.4"
  }
 },
 "nbformat": 4,
 "nbformat_minor": 2
}
