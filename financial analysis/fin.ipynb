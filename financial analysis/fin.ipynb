{
 "cells": [
  {
   "cell_type": "code",
   "execution_count": 1,
   "metadata": {},
   "outputs": [
    {
     "name": "stdout",
     "output_type": "stream",
     "text": [
      "Sample data generated and exported to 'financial_performance_data.csv'\n"
     ]
    }
   ],
   "source": [
    "import pandas as pd\n",
    "import numpy as np\n",
    "from faker import Faker\n",
    "import random\n",
    "\n",
    "# Initialize Faker\n",
    "fake = Faker()\n",
    "\n",
    "# Define parameters\n",
    "num_rows = 1000\n",
    "expense_categories = ['Salaries', 'Rent', 'Utilities', 'Marketing', 'Research and Development', 'Sales', 'Maintenance', 'Miscellaneous']\n",
    "\n",
    "# Generate data\n",
    "data = {\n",
    "    'Date': [fake.date_between(start_date='-2y', end_date='today') for _ in range(num_rows)],\n",
    "    'Region': [fake.city() for _ in range(num_rows)],\n",
    "    'Revenue': [round(random.uniform(10000, 500000), 2) for _ in range(num_rows)],\n",
    "    'Cost': [round(random.uniform(5000, 300000), 2) for _ in range(num_rows)],\n",
    "    'Budget': [round(random.uniform(10000, 500000), 2) for _ in range(num_rows)],\n",
    "    'Actuals': [round(random.uniform(10000, 500000), 2) for _ in range(num_rows)],\n",
    "    'Expense Category': [random.choice(expense_categories) for _ in range(num_rows)],\n",
    "    'Expense Amount': [round(random.uniform(500, 10000), 2) for _ in range(num_rows)],\n",
    "    'Cash Inflow': [round(random.uniform(5000, 200000), 2) for _ in range(num_rows)],\n",
    "    'Cash Outflow': [round(random.uniform(3000, 150000), 2) for _ in range(num_rows)],\n",
    "    'Forecasted Revenue': [round(random.uniform(10000, 500000), 2) for _ in range(num_rows)],\n",
    "    'Forecasted Cost': [round(random.uniform(5000, 300000), 2) for _ in range(num_rows)]\n",
    "}\n",
    "\n",
    "# Calculate Profit Margin and Cash Flow\n",
    "data['Profit Margin'] = [(rev - cost) / rev * 100 if rev != 0 else 0 for rev, cost in zip(data['Revenue'], data['Cost'])]\n",
    "data['Cash Flow'] = [inflow - outflow for inflow, outflow in zip(data['Cash Inflow'], data['Cash Outflow'])]\n",
    "\n",
    "# Create DataFrame\n",
    "df = pd.DataFrame(data)\n",
    "\n",
    "# Add calculated columns\n",
    "df['Year'] = pd.DatetimeIndex(df['Date']).year\n",
    "df['Month'] = pd.DatetimeIndex(df['Date']).month\n",
    "\n",
    "# Save to CSV\n",
    "df.to_csv('financial_performance_data.csv', index=False)\n",
    "\n",
    "print(\"Sample data generated and exported to 'financial_performance_data.csv'\")"
   ]
  }
 ],
 "metadata": {
  "kernelspec": {
   "display_name": "Python 3",
   "language": "python",
   "name": "python3"
  },
  "language_info": {
   "codemirror_mode": {
    "name": "ipython",
    "version": 3
   },
   "file_extension": ".py",
   "mimetype": "text/x-python",
   "name": "python",
   "nbconvert_exporter": "python",
   "pygments_lexer": "ipython3",
   "version": "3.11.4"
  }
 },
 "nbformat": 4,
 "nbformat_minor": 2
}
